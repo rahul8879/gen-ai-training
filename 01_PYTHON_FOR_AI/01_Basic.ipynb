{
 "cells": [
  {
   "cell_type": "markdown",
   "id": "869512d2",
   "metadata": {},
   "source": [
    "## Python Basics: Level 1 Content Outline\n",
    "\n",
    "1. **Introduction to Python**\n",
    "    - What is Python?\n",
    "    - Features of Python\n",
    "    - Applications of Python\n",
    "\n",
    "2. **Python Installation and Setup**\n",
    "    - Installing Python\n",
    "    - Setting up IDEs (IDLE, VS Code, Jupyter Notebook)\n",
    "\n",
    "3. **Python Syntax and Structure**\n",
    "    - Writing your first Python program\n",
    "    - Indentation and code blocks\n",
    "    - Comments in Python\n",
    "\n",
    "4. **Python Keywords and Identifiers**\n",
    "    - List of Python keywords\n",
    "    - Rules for naming identifiers\n",
    "\n",
    "5. **Variables and Data Types**\n",
    "    - Declaring variables\n",
    "    - Basic data types: int, float, str, bool\n",
    "    - Type conversion\n",
    "\n",
    "6. **Input and Output**\n",
    "    - Using `input()` for user input\n",
    "    - Using `print()` for output\n",
    "\n",
    "7. **Operators in Python**\n",
    "    - Arithmetic operators\n",
    "    - Assignment operators\n",
    "    - Comparison operators\n",
    "    - Logical operators\n",
    "\n",
    "8. **Basic Data Structures**\n",
    "    - Lists\n",
    "    - Tuples\n",
    "    - Sets\n",
    "    - Dictionaries\n",
    "\n",
    "9. **Conditional Statements**\n",
    "    - if, elif, else statements\n",
    "\n",
    "10. **Loops**\n",
    "     - for loop\n",
    "     - while loop\n",
    "     - break and continue statements\n",
    "\n",
    "11. **Basic Functions**\n",
    "     - Defining and calling functions\n",
    "     - Function arguments and return values\n",
    "\n",
    "12. **Basic Error Handling**\n",
    "     - try and except blocks\n",
    "\n",
    "13. **Summary and Practice Exercises**"
   ]
  },
  {
   "cell_type": "code",
   "execution_count": 7,
   "id": "5a7faa9f",
   "metadata": {},
   "outputs": [
    {
     "data": {
      "text/plain": [
       "35"
      ]
     },
     "execution_count": 7,
     "metadata": {},
     "output_type": "execute_result"
    }
   ],
   "source": [
    "# keywords : reserved\n",
    "import keyword\n",
    "kw_list =keyword.kwlist\n",
    "len(kw_list)"
   ]
  },
  {
   "cell_type": "code",
   "execution_count": 14,
   "id": "509a541d",
   "metadata": {},
   "outputs": [
    {
     "ename": "SyntaxError",
     "evalue": "invalid decimal literal (1292795692.py, line 1)",
     "output_type": "error",
     "traceback": [
      "  \u001b[36mCell\u001b[39m\u001b[36m \u001b[39m\u001b[32mIn[14]\u001b[39m\u001b[32m, line 1\u001b[39m\n\u001b[31m    \u001b[39m\u001b[31mtest@12_test = 12\u001b[39m\n           ^\n\u001b[31mSyntaxError\u001b[39m\u001b[31m:\u001b[39m invalid decimal literal\n"
     ]
    }
   ],
   "source": [
    "test@12_test = 12"
   ]
  },
  {
   "cell_type": "code",
   "execution_count": 17,
   "id": "d061fe80",
   "metadata": {},
   "outputs": [
    {
     "data": {
      "text/plain": [
       "float"
      ]
     },
     "execution_count": 17,
     "metadata": {},
     "output_type": "execute_result"
    }
   ],
   "source": [
    "age = 20.5\n",
    "\n",
    "type(age)"
   ]
  },
  {
   "cell_type": "code",
   "execution_count": 22,
   "id": "a169d1e5",
   "metadata": {},
   "outputs": [
    {
     "data": {
      "text/plain": [
       "set"
      ]
     },
     "execution_count": 22,
     "metadata": {},
     "output_type": "execute_result"
    }
   ],
   "source": [
    "# lets say we have score of 5 subjects\n",
    "marks = {45, 67, 89, 78, 90}\n",
    "type(marks)"
   ]
  },
  {
   "cell_type": "code",
   "execution_count": 27,
   "id": "632f82f8",
   "metadata": {},
   "outputs": [
    {
     "data": {
      "text/plain": [
       "20.5"
      ]
     },
     "execution_count": 27,
     "metadata": {},
     "output_type": "execute_result"
    }
   ],
   "source": [
    "sum([age])"
   ]
  },
  {
   "cell_type": "code",
   "execution_count": null,
   "id": "52a0a30a",
   "metadata": {},
   "outputs": [],
   "source": [
    "# for an eg\n",
    "\n",
    "# to the avg marks of the student\n",
    "sum(marks)/len(marks)"
   ]
  },
  {
   "cell_type": "code",
   "execution_count": 37,
   "id": "9c5e8ef0",
   "metadata": {},
   "outputs": [
    {
     "data": {
      "text/plain": [
       "40.0"
      ]
     },
     "execution_count": 37,
     "metadata": {},
     "output_type": "execute_result"
    }
   ],
   "source": [
    "age = input(\"Enter your age: \")\n",
    "age = float(age)\n",
    "age\n"
   ]
  },
  {
   "cell_type": "code",
   "execution_count": 38,
   "id": "f9a63789",
   "metadata": {},
   "outputs": [
    {
     "name": "stdout",
     "output_type": "stream",
     "text": [
      "You are eligible to vote\n",
      "You are young\n"
     ]
    }
   ],
   "source": [
    "if age>18:\n",
    "    print(\"You are eligible to vote\")\n",
    "    if age>60:\n",
    "        print(\"You are senior citizen\")\n",
    "    elif age<60 and age>40:\n",
    "        print(\"You are in mid age\")\n",
    "    else:   \n",
    "        print(\"You are young\")\n",
    "elif age==18:\n",
    "    print(\"You are eligible to vote this year\")\n",
    "elif age<0:\n",
    "    print(\"Age cannot be negative\")\n",
    "else:\n",
    "    print(\"You are not eligible to vote\")"
   ]
  },
  {
   "cell_type": "code",
   "execution_count": 51,
   "id": "1bb80b79",
   "metadata": {},
   "outputs": [
    {
     "name": "stdout",
     "output_type": "stream",
     "text": [
      "Average sales in a month:  15500.0\n",
      "day when sales were more than average sales:  16  with sales of  16000\n",
      "day when sales were more than average sales:  17  with sales of  17000\n",
      "day when sales were more than average sales:  18  with sales of  18000\n",
      "day when sales were more than average sales:  19  with sales of  19000\n",
      "day when sales were more than average sales:  20  with sales of  20000\n",
      "day when sales were more than average sales:  21  with sales of  21000\n",
      "day when sales were more than average sales:  22  with sales of  22000\n",
      "day when sales were more than average sales:  23  with sales of  23000\n",
      "day when sales were more than average sales:  24  with sales of  24000\n",
      "day when sales were more than average sales:  25  with sales of  25000\n",
      "day when sales were more than average sales:  26  with sales of  26000\n",
      "day when sales were more than average sales:  27  with sales of  27000\n",
      "day when sales were more than average sales:  28  with sales of  28000\n",
      "day when sales were more than average sales:  29  with sales of  29000\n",
      "day when sales were more than average sales:  30  with sales of  30000\n"
     ]
    }
   ],
   "source": [
    "# we have daily sales data of a shop in a month\n",
    "sales = [1000, 2000, 3000, 4000, 5000, 6000, 7000, 8000, 9000, 10000, 11000, 12000, 13000, 14000, 15000, 16000, 17000, 18000, 19000, 20000, 21000, 22000, 23000, 24000, 25000, 26000, 27000, 28000, 29000, 30000]\n",
    "\n",
    "average_sales = sum(sales)/len(sales)\n",
    "print('Average sales in a month: ', average_sales)\n",
    "\n",
    "# lest say to find the sales where we have more sae then average sales\n",
    "\n",
    "# more_sale_than_avg = []\n",
    "\n",
    "# for sale in sales:\n",
    "#     if sale > average_sales:\n",
    "#         more_sale_than_avg.append(sale)\n",
    "# print('Sales more than average sales: ', more_sale_than_avg)\n",
    "\n",
    "\n",
    "for sale in range(len(sales)):\n",
    "    if sales[sale]>average_sales:\n",
    "        print(\"day when sales were more than average sales: \", sale+1, \" with sales of \", sales[sale])"
   ]
  },
  {
   "cell_type": "code",
   "execution_count": 49,
   "id": "f5307fea",
   "metadata": {},
   "outputs": [
    {
     "name": "stdout",
     "output_type": "stream",
     "text": [
      "Found at :  3\n"
     ]
    }
   ],
   "source": [
    "marks = [45, 67, 89, 78, 90]\n",
    "\n",
    "for i in range(len(marks)):\n",
    "    if marks[i]==89:\n",
    "        print(\"Found at : \", i+1)\n",
    "        break\n",
    "else:\n",
    "    print(\"Not found\")"
   ]
  },
  {
   "cell_type": "code",
   "execution_count": 47,
   "id": "c3900a48",
   "metadata": {},
   "outputs": [
    {
     "data": {
      "text/plain": [
       "67"
      ]
     },
     "execution_count": 47,
     "metadata": {},
     "output_type": "execute_result"
    }
   ],
   "source": [
    "marks[1]"
   ]
  },
  {
   "cell_type": "code",
   "execution_count": null,
   "id": "99a8ce81",
   "metadata": {},
   "outputs": [
    {
     "name": "stdout",
     "output_type": "stream",
     "text": [
      "Max stock price at day:  1\n"
     ]
    }
   ],
   "source": [
    "# Lets create stock price list of a company for a week\n",
    "stock_price = [100, 200, 300, 400, 500, 600, 700]\n",
    "# find the day when price was maximum\n",
    "min_price = min(stock_price)\n",
    "for i in range(len(stock_price)):\n",
    "    if stock_price[i]==min_price:\n",
    "        print('Max stock price at day: ',i+1)\n",
    "\n",
    "\n",
    "\n",
    "\n",
    "\n"
   ]
  },
  {
   "cell_type": "code",
   "execution_count": 57,
   "id": "2538dcee",
   "metadata": {},
   "outputs": [
    {
     "data": {
      "text/plain": [
       "160.0"
      ]
     },
     "execution_count": 57,
     "metadata": {},
     "output_type": "execute_result"
    }
   ],
   "source": [
    "sum([150,160,170])/len([150,160,170])"
   ]
  },
  {
   "cell_type": "code",
   "execution_count": null,
   "id": "ea9e71eb",
   "metadata": {},
   "outputs": [
    {
     "name": "stdout",
     "output_type": "stream",
     "text": [
      "[160.0, 166.67, 433.33]\n"
     ]
    }
   ],
   "source": [
    "# stock price\n",
    "company_stock = [[150,160,170],[230,100,170],[300,400,600]]\n",
    "\n",
    "# task : 0, 1 and 2\n",
    "# we need to find out avg stoc price of company 0,1, 2\n",
    "# \n",
    "\n",
    "avg_stock_price ={}\n",
    "\n",
    "for i in company_stock:\n",
    "    total_sum = 0\n",
    "    for j in i:\n",
    "        total_sum = total_sum+j\n",
    "\n",
    "    avg_stock_price['Company_'+] =(round(total_sum/len(i),2))\n",
    "print(avg_stock_price)\n",
    "    "
   ]
  },
  {
   "cell_type": "code",
   "execution_count": 71,
   "id": "244e2d0e",
   "metadata": {},
   "outputs": [],
   "source": [
    "avg_stock_price ={}\n",
    "\n",
    "for i in range(len(company_stock)):\n",
    "    total_sum=0\n",
    "    for j in range(len(company_stock[i])):\n",
    "        total_sum = total_sum+company_stock[i][j]\n",
    "    avg_stock_price['Company_'+str(i)] =(round(total_sum/len(company_stock[i]),2))\n",
    "\n"
   ]
  },
  {
   "cell_type": "code",
   "execution_count": 72,
   "id": "130d2688",
   "metadata": {},
   "outputs": [
    {
     "data": {
      "text/plain": [
       "{'Company_0': 160.0, 'Company_1': 166.67, 'Company_2': 433.33}"
      ]
     },
     "execution_count": 72,
     "metadata": {},
     "output_type": "execute_result"
    }
   ],
   "source": [
    "avg_stock_price"
   ]
  },
  {
   "cell_type": "code",
   "execution_count": null,
   "id": "af1b4e3b",
   "metadata": {},
   "outputs": [],
   "source": []
  },
  {
   "cell_type": "code",
   "execution_count": null,
   "id": "3e9b64ee",
   "metadata": {},
   "outputs": [],
   "source": []
  },
  {
   "cell_type": "code",
   "execution_count": 63,
   "id": "006370e1",
   "metadata": {},
   "outputs": [],
   "source": [
    "# {key:value}\n",
    "# for eg.\n",
    "marks = {\n",
    "    'Rahul':[30,35,40,50],\n",
    "    'XYZ':[12,34,45,50]\n",
    "\n",
    "}\n",
    "marks['ABC']=[12,45]"
   ]
  },
  {
   "cell_type": "code",
   "execution_count": 64,
   "id": "94120dee",
   "metadata": {},
   "outputs": [
    {
     "data": {
      "text/plain": [
       "{'Rahul': [30, 35, 40, 50], 'XYZ': [12, 34, 45, 50], 'ABC': [12, 45]}"
      ]
     },
     "execution_count": 64,
     "metadata": {},
     "output_type": "execute_result"
    }
   ],
   "source": [
    "marks"
   ]
  },
  {
   "cell_type": "code",
   "execution_count": null,
   "id": "a8d0eb17",
   "metadata": {},
   "outputs": [],
   "source": []
  },
  {
   "cell_type": "code",
   "execution_count": null,
   "id": "3d691dcb",
   "metadata": {},
   "outputs": [],
   "source": []
  },
  {
   "cell_type": "code",
   "execution_count": 1,
   "id": "5d0dd3b2",
   "metadata": {},
   "outputs": [],
   "source": [
    "# take one real scanrio to teach python from retail domain\n",
    "# simple python\n",
    "# inventory management system\n",
    "# CRUD operations\n",
    "# using list and dictionary\n",
    "# no database\n",
    "# no external libraries\n",
    "\n",
    "inventory = []\n",
    "def add_item(name, quantity, price):\n",
    "    item = {\n",
    "        'name': name,\n",
    "        'quantity': quantity,\n",
    "        'price': price\n",
    "    }\n",
    "    inventory.append(item)\n",
    "    print(f\"Item '{name}' added to inventory.\")\n",
    "\n",
    "def view_inventory():\n",
    "    if not inventory:\n",
    "        print(\"Inventory is empty.\")\n",
    "        return\n",
    "    print(\"Current Inventory:\")\n",
    "    for item in inventory:\n",
    "        print(f\" - {item['name']}: {item['quantity']} units at ${item['price']} each\")\n",
    "\n",
    "def update_item(name, quantity, price):\n",
    "    for item in inventory:\n",
    "        if item['name'] == name:\n",
    "            item['quantity'] = quantity\n",
    "            item['price'] = price\n",
    "            print(f\"Item '{name}' updated.\")\n",
    "            return\n",
    "    print(f\"Item '{name}' not found.\")\n",
    "\n",
    "def delete_item(name):\n",
    "    global inventory\n",
    "    inventory = [item for item in inventory if item['name'] != name]\n",
    "    print(f\"Item '{name}' deleted.\")\n",
    "\n",
    "def main():\n",
    "    while True:\n",
    "        print(\"\\nInventory Management System\")\n",
    "        print(\"1. Add Item\")\n",
    "        print(\"2. View Inventory\")\n",
    "        print(\"3. Update Item\")\n",
    "        print(\"4. Delete Item\")\n",
    "        print(\"5. Exit\")\n",
    "        choice = input(\"Choose an option: \")\n",
    "        \n",
    "        if choice == '1':\n",
    "            name = input(\"Enter item name: \")\n",
    "            quantity = int(input(\"Enter item quantity: \"))\n",
    "            price = float(input(\"Enter item price: \"))\n",
    "            add_item(name, quantity, price)\n",
    "        elif choice == '2':\n",
    "            view_inventory()\n",
    "        elif choice == '3':\n",
    "            name = input(\"Enter item name to update: \")\n",
    "            quantity = int(input(\"Enter new quantity: \"))\n",
    "            price = float(input(\"Enter new price: \"))\n",
    "            update_item(name, quantity, price)\n",
    "        elif choice == '4':\n",
    "            name = input(\"Enter item name to delete: \")\n",
    "            delete_item(name)\n",
    "        elif choice == '5':\n",
    "            print(\"Exiting Inventory Management System.\")\n",
    "            break\n",
    "        else:\n",
    "            print(\"Invalid choice. Please try again.\")"
   ]
  },
  {
   "cell_type": "code",
   "execution_count": null,
   "id": "e94bc218",
   "metadata": {},
   "outputs": [],
   "source": []
  },
  {
   "cell_type": "code",
   "execution_count": null,
   "id": "d1f9dece",
   "metadata": {},
   "outputs": [],
   "source": []
  },
  {
   "cell_type": "markdown",
   "id": "a3ebb842",
   "metadata": {},
   "source": [
    "### Practice Questions (Medium Complexity)\n",
    "\n",
    "1. **Variables and Data Types:**  \n",
    "    Write a Python program that takes a user's name, age, and height (in centimeters) as input. Store these values in appropriate variables and print a message displaying the user's details. Then, convert the height to meters and display the result.\n",
    "\n",
    "2. **Lists and Loops:**  \n",
    "    Create a list of five integers. Write a program to calculate and print the sum and average of the numbers using a `for` loop.\n",
    "\n",
    "3. **Conditional Statements:**  \n",
    "    Write a Python program that asks the user to enter a number. If the number is even, print \"Even Number\". If it is odd and greater than 10, print \"Odd Number Greater Than 10\". Otherwise, print \"Odd Number 10 or Less\".\n",
    "\n",
    "4. **Dictionaries and Functions:**  \n",
    "    Define a function that takes a dictionary containing student names as keys and their scores as values. The function should return the name of the student with the highest score.\n",
    "\n",
    "5. **Error Handling:**  \n",
    "    Write a program that asks the user to input two numbers and divides the first number by the second. Use a `try-except` block to handle the case where the user enters zero as the second number, and print an appropriate error message."
   ]
  },
  {
   "cell_type": "markdown",
   "id": "5b028f22",
   "metadata": {},
   "source": []
  }
 ],
 "metadata": {
  "kernelspec": {
   "display_name": "ai-env",
   "language": "python",
   "name": "python3"
  },
  "language_info": {
   "codemirror_mode": {
    "name": "ipython",
    "version": 3
   },
   "file_extension": ".py",
   "mimetype": "text/x-python",
   "name": "python",
   "nbconvert_exporter": "python",
   "pygments_lexer": "ipython3",
   "version": "3.13.7"
  }
 },
 "nbformat": 4,
 "nbformat_minor": 5
}
