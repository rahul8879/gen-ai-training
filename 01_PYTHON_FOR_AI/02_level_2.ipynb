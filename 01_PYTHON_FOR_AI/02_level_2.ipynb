{
 "cells": [
  {
   "cell_type": "code",
   "execution_count": 5,
   "id": "31e980b4",
   "metadata": {},
   "outputs": [
    {
     "name": "stdout",
     "output_type": "stream",
     "text": [
      "value of i is 0\n",
      "value of i is 1\n",
      "value of i is 2\n",
      "Max sales of 700 occurred on day 4\n",
      "value of i is 4\n",
      "value of i is 5\n",
      "value of i is 6\n"
     ]
    }
   ],
   "source": [
    "# lets say like we have sales data for a week\n",
    "sales_data = [150, 200, 250, 700, 350, 400, 450]\n",
    "\n",
    "# we need to find the day when sales at max\n",
    "max_sales = max(sales_data)\n",
    "\n",
    "for i in range(len(sales_data)):\n",
    "    if sales_data[i] == max_sales:\n",
    "        print(f\"Max sales of {max_sales} occurred on day {i + 1}\")\n",
    "        continue\n",
    "    print(\"value of i is\", i)\n",
    "        \n",
    "\n"
   ]
  },
  {
   "cell_type": "code",
   "execution_count": 9,
   "id": "5da697dc",
   "metadata": {},
   "outputs": [
    {
     "name": "stdout",
     "output_type": "stream",
     "text": [
      "Total even numbers: 5\n"
     ]
    }
   ],
   "source": [
    "# lets say  we have list of numbers\n",
    "numbers = [10, 20, 30, 40, 50, 21, 31, 41, 51]\n",
    "\n",
    "count = 0\n",
    "for i in numbers:\n",
    "    if i % 2 == 0:\n",
    "        count += 1\n",
    "        continue\n",
    "print(f\"Total even numbers: {count}\")"
   ]
  },
  {
   "cell_type": "code",
   "execution_count": null,
   "metadata": {},
   "outputs": [],
   "source": [
    "# lets see few example from while loop\n",
    "# both are solving the same objective\n",
    "for loop - you are checking condition inside the LookupError\n",
    "while loop - you are checking condition in the while statement itself\n"
   ]
  },
  {
   "cell_type": "code",
   "execution_count": null,
   "id": "b499a248",
   "metadata": {},
   "outputs": [],
   "source": []
  },
  {
   "cell_type": "code",
   "execution_count": 11,
   "id": "0d8349a3",
   "metadata": {},
   "outputs": [
    {
     "name": "stdout",
     "output_type": "stream",
     "text": [
      "Session is active.\n"
     ]
    }
   ],
   "source": [
    "# lets create one logout function\n",
    "import datetime\n",
    "def logout(user):\n",
    "    print(f\"User {user} has logged out.\")\n",
    "# login time 10 minutes ago\n",
    "login_time = datetime.datetime.now() - datetime.timedelta(minutes=5)\n",
    "current_time = datetime.datetime.now()\n",
    "session_duration = current_time - login_time\n",
    "\n",
    "while session_duration < datetime.timedelta(minutes=10):\n",
    "    print(\"Session is active.\")\n",
    "    break\n",
    "else:\n",
    "    logout(\"rahul\")"
   ]
  },
  {
   "cell_type": "code",
   "execution_count": 13,
   "id": "2babb1bf",
   "metadata": {},
   "outputs": [
    {
     "name": "stdout",
     "output_type": "stream",
     "text": [
      "Login successful!\n"
     ]
    }
   ],
   "source": [
    "# lets take one more example\n",
    "attempts = 0\n",
    "max_attempts = 3\n",
    "\n",
    "while attempts < max_attempts:\n",
    "    user_input = input(\"Enter your password: \")\n",
    "    if user_input == \"securepassword\":\n",
    "        print(\"Login successful!\")\n",
    "        break\n",
    "    else:\n",
    "        print(\"Login failed.\")\n",
    "        attempts += 1\n",
    "else:\n",
    "    print(\"Max login attempts exceeded.\")"
   ]
  },
  {
   "cell_type": "code",
   "execution_count": 14,
   "id": "7b5817c2",
   "metadata": {},
   "outputs": [
    {
     "name": "stdout",
     "output_type": "stream",
     "text": [
      "User rahul has logged out.\n"
     ]
    }
   ],
   "source": [
    "def login_time(login_time):\n",
    "    current_time = datetime.datetime.now()\n",
    "    session_duration = current_time - login_time\n",
    "    return session_duration\n",
    "\n",
    "def logout(user):\n",
    "    print(f\"User {user} has logged out.\")\n",
    "\n",
    "\n",
    "# lets call the logout function\n",
    "\n",
    "logout(\"rahul\")\n"
   ]
  },
  {
   "cell_type": "code",
   "execution_count": 20,
   "id": "7e770aea",
   "metadata": {},
   "outputs": [
    {
     "name": "stdout",
     "output_type": "stream",
     "text": [
      "An error occurred: 'int' object is not iterable\n"
     ]
    },
    {
     "data": {
      "text/plain": [
       "0.0"
      ]
     },
     "execution_count": 20,
     "metadata": {},
     "output_type": "execute_result"
    }
   ],
   "source": [
    "def avg_marks(marks: list) -> float:\n",
    "    try:\n",
    "        total = sum(marks)\n",
    "        count = len(marks)\n",
    "        average = total / count\n",
    "        return average\n",
    "    except Exception as e:\n",
    "        print(\"An error occurred:\", e)\n",
    "        return 0.0\n",
    "    \n",
    "\n",
    "avg_marks(2)"
   ]
  },
  {
   "cell_type": "code",
   "execution_count": null,
   "id": "61221ae1",
   "metadata": {},
   "outputs": [
    {
     "data": {
      "text/plain": [
       "1"
      ]
     },
     "execution_count": 22,
     "metadata": {},
     "output_type": "execute_result"
    }
   ],
   "source": []
  },
  {
   "cell_type": "code",
   "execution_count": 25,
   "id": "5903819a",
   "metadata": {},
   "outputs": [
    {
     "name": "stdout",
     "output_type": "stream",
     "text": [
      "Roll number 276 found at index 142\n",
      "Time taken to search: 0.00015163421630859375 seconds\n"
     ]
    }
   ],
   "source": [
    "# lets createv random roll number data between 100 to 300 for 1000 students\n",
    "import random\n",
    "roll_numbers = [random.randint(100, 300) for _ in range(1000)]\n",
    "\n",
    "# also track the time taken to search for a specific roll number\n",
    "import time\n",
    "start_time = time.time()\n",
    "key=276\n",
    "for i in range(len(roll_numbers)):\n",
    "    if roll_numbers[i] == key:\n",
    "        print(f\"Roll number {key} found at index {i}\")\n",
    "        break\n",
    "end_time = time.time()\n",
    "print(f\"Time taken to search: {end_time - start_time} seconds\")"
   ]
  },
  {
   "cell_type": "code",
   "execution_count": 28,
   "id": "03774f89",
   "metadata": {},
   "outputs": [
    {
     "name": "stdout",
     "output_type": "stream",
     "text": [
      "Roll number 276 found: Student_971\n",
      "Time taken to search: 0.0003840923309326172 seconds\n"
     ]
    }
   ],
   "source": [
    "# lets track the time in case of dictionary\n",
    "import time\n",
    "import random\n",
    "# create random roll number data between 100 to 300 for 1000 students\n",
    "roll_numbers_dict = {random.randint(100, 300): f\"Student_{i}\" for i in range(1000)}\n",
    "# print(roll_numbers_dict)\n",
    "# # also track the time taken to search for a specific roll number\n",
    "start_time = time.time()\n",
    "key = 276\n",
    "if key in roll_numbers_dict:\n",
    "    print(f\"Roll number {key} found: {roll_numbers_dict[key]}\")\n",
    "end_time = time.time()\n",
    "print(f\"Time taken to search: {end_time - start_time} seconds\")"
   ]
  },
  {
   "cell_type": "code",
   "execution_count": 31,
   "id": "05cafd2c",
   "metadata": {},
   "outputs": [
    {
     "name": "stdout",
     "output_type": "stream",
     "text": [
      "John Doe\n"
     ]
    },
    {
     "data": {
      "text/plain": [
       "{'name': 'John Doe',\n",
       " 'age': 21,\n",
       " 'courses': ['Math', 'Science', 'History'],\n",
       " 'past_courses': ['English', 'Geography']}"
      ]
     },
     "execution_count": 31,
     "metadata": {},
     "output_type": "execute_result"
    }
   ],
   "source": [
    "students = {\n",
    "    \"name\": \"John Doe\",\n",
    "    \"age\": 21,\n",
    "    \"courses\": [\"Math\", \"Science\", \"History\"]\n",
    "}\n",
    "print(students[\"name\"])\n",
    "\n",
    "students['past_courses'] = [\"English\", \"Geography\"]\n",
    "students"
   ]
  },
  {
   "cell_type": "code",
   "execution_count": null,
   "id": "84d04ff2",
   "metadata": {},
   "outputs": [],
   "source": [
    "# lets do one things\n",
    "# we have 10 student with their marks of 9 subjects in a dictionary\n",
    "students_marks = {\n",
    "    \"Student_1\": [85, 90, 78, 92, 88, 76, 95, 89, 84],\n",
    "    \"Student_2\": [80, 85, 88, 90, 92, 81, 79, 87, 91],\n",
    "    \"Student_3\": [78, 82, 85, 88, 90, 84, 86, 89, 83],\n",
    "    \"Student_4\": [90, 92, 94, 96, 98, 91, 93, 95, 97],\n",
    "    \"Student_5\": [70, 75, 80, 85, 90, 72, 78, 82, 88],\n",
    "    \"Student_6\": [88, 84, 82, 86, 90, 87, 85, 89, 91],\n",
    "    \"Student_7\": [92, 94, 96, 98, 100, 95, 97, 99, 101],\n",
    "    \"Student_8\": [76, 78, 80, 82, 84, 79, 81, 83, 85],\n",
    "    \"Student_9\": [85, 87, 89, 91, 93, 88, 90, 92, 94],\n",
    "    \"Student_10\": [80, 82, 84, 86, 88, 83, 85, 87, 89]\n",
    "}\n",
    "\n",
    "\n",
    " \n"
   ]
  },
  {
   "cell_type": "code",
   "execution_count": 34,
   "id": "7bb6af3a",
   "metadata": {},
   "outputs": [
    {
     "name": "stdout",
     "output_type": "stream",
     "text": [
      "Student_1 has an average mark of 86.33\n",
      "Student_2 has an average mark of 85.89\n",
      "Student_3 has an average mark of 85.00\n",
      "Student_4 has an average mark of 94.00\n",
      "Student_5 has an average mark of 80.00\n",
      "Student_6 has an average mark of 86.89\n",
      "Student_7 has an average mark of 96.89\n",
      "Student_8 has an average mark of 80.89\n",
      "Student_9 has an average mark of 89.89\n",
      "Student_10 has an average mark of 84.89\n"
     ]
    }
   ],
   "source": [
    "for student, marks in students_marks.items():\n",
    "    average = sum(marks) / len(marks)\n",
    "    print(f\"{student} has an average mark of {average:.2f}\")    "
   ]
  },
  {
   "cell_type": "code",
   "execution_count": null,
   "id": "0200f964",
   "metadata": {},
   "outputs": [],
   "source": [
    "def final_result(board_name:str)-> str:\n",
    "    if board_name == \"CBSE\":\n",
    "        roll_number =('CB1234', 'CB5678', 'CB9101')\n",
    "        return roll_number"
   ]
  },
  {
   "cell_type": "code",
   "execution_count": 40,
   "id": "3ba99bb4",
   "metadata": {},
   "outputs": [
    {
     "ename": "TypeError",
     "evalue": "'tuple' object does not support item assignment",
     "output_type": "error",
     "traceback": [
      "\u001b[31m---------------------------------------------------------------------------\u001b[39m",
      "\u001b[31mTypeError\u001b[39m                                 Traceback (most recent call last)",
      "\u001b[36mCell\u001b[39m\u001b[36m \u001b[39m\u001b[32mIn[40]\u001b[39m\u001b[32m, line 2\u001b[39m\n\u001b[32m      1\u001b[39m result= final_result(\u001b[33m\"\u001b[39m\u001b[33mCBSE\u001b[39m\u001b[33m\"\u001b[39m)\n\u001b[32m----> \u001b[39m\u001b[32m2\u001b[39m \u001b[43mresult\u001b[49m\u001b[43m[\u001b[49m\u001b[32;43m0\u001b[39;49m\u001b[43m]\u001b[49m = \u001b[33m\"\u001b[39m\u001b[33mCB1208\u001b[39m\u001b[33m\"\u001b[39m\n\u001b[32m      3\u001b[39m result\n",
      "\u001b[31mTypeError\u001b[39m: 'tuple' object does not support item assignment"
     ]
    }
   ],
   "source": [
    "result= final_result(\"CBSE\")\n",
    "result[0] = \"CB1208\"\n",
    "result"
   ]
  },
  {
   "cell_type": "code",
   "execution_count": 43,
   "id": "acddb665",
   "metadata": {},
   "outputs": [
    {
     "ename": "TypeError",
     "evalue": "'tuple' object does not support item assignment",
     "output_type": "error",
     "traceback": [
      "\u001b[31m---------------------------------------------------------------------------\u001b[39m",
      "\u001b[31mTypeError\u001b[39m                                 Traceback (most recent call last)",
      "\u001b[36mCell\u001b[39m\u001b[36m \u001b[39m\u001b[32mIn[43]\u001b[39m\u001b[32m, line 2\u001b[39m\n\u001b[32m      1\u001b[39m roll_number = (\u001b[33m'\u001b[39m\u001b[33mCB1234\u001b[39m\u001b[33m'\u001b[39m, \u001b[33m'\u001b[39m\u001b[33mCB5678\u001b[39m\u001b[33m'\u001b[39m, \u001b[33m'\u001b[39m\u001b[33mCB9101\u001b[39m\u001b[33m'\u001b[39m)\n\u001b[32m----> \u001b[39m\u001b[32m2\u001b[39m \u001b[43mroll_number\u001b[49m\u001b[43m[\u001b[49m\u001b[32;43m0\u001b[39;49m\u001b[43m]\u001b[49m = \u001b[33m\"\u001b[39m\u001b[33mCB1208\u001b[39m\u001b[33m\"\u001b[39m\n",
      "\u001b[31mTypeError\u001b[39m: 'tuple' object does not support item assignment"
     ]
    }
   ],
   "source": [
    "roll_number = ('CB1234', 'CB5678', 'CB9101')\n",
    "roll_number[0] = \"CB1208\""
   ]
  },
  {
   "cell_type": "code",
   "execution_count": null,
   "id": "3b02b3bf",
   "metadata": {},
   "outputs": [],
   "source": []
  }
 ],
 "metadata": {
  "kernelspec": {
   "display_name": "ai-env",
   "language": "python",
   "name": "python3"
  },
  "language_info": {
   "codemirror_mode": {
    "name": "ipython",
    "version": 3
   },
   "file_extension": ".py",
   "mimetype": "text/x-python",
   "name": "python",
   "nbconvert_exporter": "python",
   "pygments_lexer": "ipython3",
   "version": "3.13.7"
  }
 },
 "nbformat": 4,
 "nbformat_minor": 5
}
