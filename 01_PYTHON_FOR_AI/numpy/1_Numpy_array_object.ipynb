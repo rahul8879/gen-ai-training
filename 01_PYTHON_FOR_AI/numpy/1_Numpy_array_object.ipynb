{
 "cells": [
  {
   "cell_type": "markdown",
   "metadata": {
    "id": "vT8gEli3D-O-"
   },
   "source": [
    "# The Numpy array object"
   ]
  },
  {
   "cell_type": "markdown",
   "metadata": {
    "id": "k4dqVf1UD-PG"
   },
   "source": [
    "# NumPy Arrays"
   ]
  },
  {
   "cell_type": "markdown",
   "metadata": {
    "id": "qsghb7yzD-PH"
   },
   "source": [
    "**python objects:** \n",
    "\n",
    "1. high-level number objects: integers, floating point\n",
    "2. containers: lists (costless insertion and append), dictionaries (fast lookup)"
   ]
  },
  {
   "cell_type": "markdown",
   "metadata": {
    "id": "bRyvcxu3D-PI"
   },
   "source": [
    "**Numpy provides:**\n",
    "\n",
    "1. extension package to Python for multi-dimensional arrays\n",
    "2. closer to hardware (efficiency)\n",
    "3. designed for scientific computation (convenience)\n",
    "4. Also known as array oriented computing"
   ]
  },
  {
   "cell_type": "code",
   "execution_count": 1,
   "metadata": {},
   "outputs": [
    {
     "data": {
      "text/plain": [
       "5"
      ]
     },
     "execution_count": 1,
     "metadata": {},
     "output_type": "execute_result"
    }
   ],
   "source": [
    "marks = [12, 15, 14, 10, 18]\n",
    "\n",
    "len(marks)"
   ]
  },
  {
   "cell_type": "code",
   "execution_count": 2,
   "metadata": {},
   "outputs": [
    {
     "data": {
      "text/plain": [
       "array([220. , 242. , 275. , 302.5, 330. , 352. , 385. , 440. , 495. ,\n",
       "       550. ])"
      ]
     },
     "execution_count": 2,
     "metadata": {},
     "output_type": "execute_result"
    }
   ],
   "source": [
    "\n",
    "import numpy as np\n",
    "\n",
    "# lets create 1 d data ( sales of 10 days)\n",
    "sales = np.array([200,220,250,275,300,320,350,400,450,500])\n",
    "\n",
    "# lets create 2 d data ( sales of 10 days for 3 products)\n",
    "sales_2d = np.array([[200,220,250],[275,300,320],[350,400,450],[500,550,600]])\n",
    "\n",
    "# I want to increase the sales by 10%^\n",
    "increased_sales = sales * 1.1\n",
    "increased_sales"
   ]
  },
  {
   "cell_type": "code",
   "execution_count": 12,
   "metadata": {},
   "outputs": [
    {
     "data": {
      "text/plain": [
       "96"
      ]
     },
     "execution_count": 12,
     "metadata": {},
     "output_type": "execute_result"
    }
   ],
   "source": [
    "# numpy attributes\n",
    "sales.ndim  # number of dimensions\n",
    "sales.shape  # dimensions of the array\n",
    "sales.size  # total number of elements\n",
    "sales.dtype  # data type of the elements\n",
    "sales.itemsize  # size of each element in bytes\n",
    "sales.nbytes  # total size of the array in bytes\n",
    "sales_2d.ndim  # number of dimensions\n",
    "sales_2d.shape  # dimensions of the array\n",
    "sales_2d.size  # total number of elements\n",
    "sales_2d.dtype  # data type of the elements\n",
    "sales_2d.itemsize  # size of each element in bytes\n",
    "sales_2d.nbytes  # total size of the array in bytes\n"
   ]
  },
  {
   "cell_type": "code",
   "execution_count": 14,
   "metadata": {},
   "outputs": [
    {
     "data": {
      "text/plain": [
       "array([200, 275, 350, 500])"
      ]
     },
     "execution_count": 14,
     "metadata": {},
     "output_type": "execute_result"
    }
   ],
   "source": [
    "# accessing elements\n",
    "sales[0]  # first element\n",
    "sales[-1]  # last element\n",
    "sales[1:3]  # elements from index 1 to 2\n",
    "sales_2d[0, 1]  # element at row 0, column 1\n",
    "sales_2d[:, 0]  # all rows, first column"
   ]
  },
  {
   "cell_type": "code",
   "execution_count": 15,
   "metadata": {},
   "outputs": [
    {
     "name": "stdout",
     "output_type": "stream",
     "text": [
      "326.5\n",
      "310.0\n",
      "93.75633311942185\n",
      "200\n",
      "500\n",
      "3265\n",
      "9\n"
     ]
    }
   ],
   "source": [
    "# methods in numpy\n",
    "print(np.mean(sales))  # mean\n",
    "print(np.median(sales))  # median\n",
    "print(np.std(sales))  # standard deviation\n",
    "\n",
    "print(np.min(sales))  # minimum\n",
    "print(np.max(sales))  # maximum\n",
    "print(np.sum(sales))  # sum\n",
    "print(np.argmax(sales))  # index of maximum"
   ]
  },
  {
   "cell_type": "code",
   "execution_count": 22,
   "metadata": {},
   "outputs": [
    {
     "name": "stdout",
     "output_type": "stream",
     "text": [
      "[200 220 250 275 300 320 350 400 450 500]\n",
      "[ 390  450  510  555  610  650  710  810  910 1010]\n",
      "[-10  10  10   5  10  10  10  10  10  10]\n",
      "Sales percentage increase: [-5.          4.54545455  4.          1.81818182  3.33333333  3.125\n",
      "  2.85714286  2.5         2.22222222  2.        ]\n"
     ]
    }
   ],
   "source": [
    "# operations on 1d array\n",
    "# lets create new array with sales of 10 days\n",
    "print(sales)\n",
    "sales_new = np.array([190,230,260,280,310,330,360,410,460,510])\n",
    "sales_combined = sales + sales_new\n",
    "print(sales_combined)\n",
    "sales_diff = sales_new - sales\n",
    "print(sales_diff)\n",
    "\n",
    "\n",
    "# lets compute % increase in sales\n",
    "sales_percentage_increase = (sales_diff / sales) * 100\n",
    "print(\"Sales percentage increase:\", sales_percentage_increase)\n",
    "\n"
   ]
  },
  {
   "cell_type": "code",
   "execution_count": null,
   "metadata": {},
   "outputs": [
    {
     "data": {
      "text/plain": [
       "(10, 3)"
      ]
     },
     "execution_count": 24,
     "metadata": {},
     "output_type": "execute_result"
    }
   ],
   "source": [
    "# lets create 2 d data ( sales of 10 days for 3 products)\n",
    "sales_2d = np.array([[200,220,250],[275,300,320],[350,400,450],[500,550,600],[600,650,700],[700,750,800],[800,850,900],[900,950,1000],[1000,1100,1200],[1100,1200,1300]])\n",
    "\n",
    "\n",
    "# lets give 10% discount on all products\n",
    "discounted_sales = sales_2d * 0.9"
   ]
  },
  {
   "cell_type": "code",
   "execution_count": null,
   "metadata": {},
   "outputs": [
    {
     "name": "stdout",
     "output_type": "stream",
     "text": [
      "datatype of income array: int64\n",
      "[100 100 400 300 400 400 100 500 300 200]\n"
     ]
    }
   ],
   "source": [
    "# I want to generate randome numbers\n",
    "income = np.random.randint(5000, 10000, size=(10, 3))\n",
    "\n",
    "print('datatype of income array:', income.dtype)\n",
    "income = np.random.rand(10, 3) * 10000\n",
    "income.dtype    \n",
    "\n",
    "# choice function\n",
    "choices = np.random.choice([100, 200, 300, 400, 500], size=10)\n",
    "print(choices)\n",
    "\n",
    "\n",
    "\n"
   ]
  },
  {
   "cell_type": "code",
   "execution_count": 37,
   "metadata": {},
   "outputs": [
    {
     "name": "stdout",
     "output_type": "stream",
     "text": [
      "[7818 5452 9380 7487 6944 9253 9573 8890 9946 8046 9921 9545 9075 8643\n",
      " 9940 8410 9019 9783 7697 6853 8639 8166 9302 6881 9486 9184 5110 8116\n",
      " 8256 6913 6115 6679 6628 8906 9423 6357 6881 9515 8570 6942 8502 6423\n",
      " 5133 7268 7463 9101 8109 7926 6032 8158 9941 8583 6974 7463 6130 7921\n",
      " 8365 6937 8022 7084 9720 8977 9774 9141 5027 6265 9689 9180 7195 7310\n",
      " 8569 9244 7468 6926 8426 7855 5612 5816 5107 7415 5459 6787 7857 9983\n",
      " 7589 6006 7386 6243 9923 8415 7027 5453 7129 9221 8220 8468 6955 6424\n",
      " 7261 8894 5839 8062 5782 8142 8132 7047 7776 6708 7842 7240 9339 8072\n",
      " 8920 5174 7775 7989 7641 7068 6370 6226 6868 6331 5752 5136 9998 8337\n",
      " 7186 6091 5809 6588 8296 9653 9763 5235 9024 5615 7686 6518 9218 5580\n",
      " 6162 6324 9296 7609 9323 6098 8218 7594 8603 7791 5714 8855 7419 8875\n",
      " 5806 7705 8330 9854 8295 6276 9605 6910 8903 8147 8881 9978 8451 9145\n",
      " 6390 8555 8209 6062 7263 6699 6726 7728 5721 5995 8099 7757 7316 5481\n",
      " 6688 6183 5519 8269 9693 5924 9797 9442 7334 7665 8974 6200 6762 5471\n",
      " 9425 8365 8718 6188 8428 5042 5076 6652 5403 7977 6787 7518 8716 5641\n",
      " 8122 5053 9989 8568 9591 7216 9503 6272 7751 6607 9471 9364 9523 7969\n",
      " 6198 7738 7973 9838 6889 9874 7908 9924 6156 9159 5333 8249 9472 5286\n",
      " 8912 6871 5642 8892 9273 8067 5881 5552 6948 9394 9722 6531 7396 7158\n",
      " 8381 6514 6095 6923 5120 8608 9060 5133 6125 7215 7261 7838 5981 8179\n",
      " 5758 6461 6757 5306 5070 9233 5583 5871 5315 7450 7472 8076 8914 8736\n",
      " 5538 5258 8425 5489 7508 6892 9285 9004 8525 5085 6005 8957 5182 6159\n",
      " 8627 9781 9512 8200 7027 5876 5535 5923 8431 6849 5288 7906 7651 7964\n",
      " 6068 8415 9014 8514 7486 6842 7464 5467 7276 7642 8351 8703 9600 9782\n",
      " 7293 5514 6452 9962 9214 6681 7911 8365 7643 6191 8374 6990 7006 7328\n",
      " 9733 6615 6945 8652 9844 7028 6952 7015 9069 7777 5274 9003 8816 8958\n",
      " 8513 6493 9011 9087 6904 6960 6798 5543 5699 7376 5768 8487 8932 8471\n",
      " 5938 8186 7421 5353 8097 5827 6035 5697 7811 8404 6084 7667 8272 5794\n",
      " 8154 5080 8831 9840 8839 7695 8453 8287 9266 7263 5661 7736 6468 5091\n",
      " 7581 6661 8777 5958 5307 5781 5526 8648 9167 6470 9001 8443 9238 5472\n",
      " 6939 8325 8061 5995 9982 8652 7504 5927 8282 5277 8356 8894 7356 6659\n",
      " 6795 6829 8446 5130 5553 6614 5495 9864 6181 8549 9202 8174 8660 9227\n",
      " 5409 7866 9987 7692 6783 5484 6379 5183 9547 6464 6879 7559 6962 7748\n",
      " 7187 6878 9622 9441 7190 7169 8482 8175 8408 7976 8277 6210 8117 8272\n",
      " 9485 8056 7104 9163 9626 9904 7180 8477 5726 5002 5814 9819 5114 9431\n",
      " 7801 7657 5586 8192 6618 6418 9522 9183 6687 5970 6216 5330 6465 8258\n",
      " 6412 5874 8338 9480 5385 8391 6136 7655 5345 6112]\n",
      "sample_1: [6910 5385 8894 8410 8220 9296 9159 7276 6418 8142 6881 6468 9180 6960\n",
      " 9184 8272 5133 5027 9087 6762 5881 9946 5471 9781 8391 6871 7609 8958\n",
      " 5923 8570]\n"
     ]
    }
   ],
   "source": [
    "# sampling \n",
    "population_income = np.random.randint(5000, 10000, size=(500))\n",
    "print(population_income)\n",
    "#sample\n",
    "sample_1 = np.random.choice(population_income,size=30)\n",
    "sample_2 = np.random.choice(population_income,size=30)\n",
    "sample_3 = np.random.choice(population_income,size=30)\n",
    "\n",
    "print('sample_1:',sample_1)\n",
    "# avg_sample_mean = np.mean()"
   ]
  },
  {
   "cell_type": "code",
   "execution_count": 40,
   "metadata": {},
   "outputs": [
    {
     "data": {
      "text/plain": [
       "array([[1, 1, 3, 3],\n",
       "       [2, 2, 4, 4]])"
      ]
     },
     "execution_count": 40,
     "metadata": {},
     "output_type": "execute_result"
    }
   ],
   "source": [
    "a1 = np.array([[1, 1],\n",
    "               [2, 2]])\n",
    "\n",
    "a2 = np.array([[3, 3],\n",
    "               [4, 4]])\n",
    "\n",
    "\n",
    "np.hstack((a1, a2))"
   ]
  },
  {
   "cell_type": "code",
   "execution_count": 43,
   "metadata": {},
   "outputs": [
    {
     "name": "stdout",
     "output_type": "stream",
     "text": [
      "[1 1]\n"
     ]
    }
   ],
   "source": [
    "data = np.array([1, 2])\n",
    "ones = np.ones(2, dtype=int)\n",
    "print(ones)\n",
    "final_result= data + ones"
   ]
  },
  {
   "cell_type": "code",
   "execution_count": 45,
   "metadata": {},
   "outputs": [
    {
     "data": {
      "text/plain": [
       "array([[ 200,  275,  350,  500,  600,  700,  800,  900, 1000, 1100],\n",
       "       [ 220,  300,  400,  550,  650,  750,  850,  950, 1100, 1200],\n",
       "       [ 250,  320,  450,  600,  700,  800,  900, 1000, 1200, 1300]])"
      ]
     },
     "execution_count": 45,
     "metadata": {},
     "output_type": "execute_result"
    }
   ],
   "source": [
    "sales_2d.T"
   ]
  },
  {
   "cell_type": "code",
   "execution_count": null,
   "metadata": {},
   "outputs": [],
   "source": []
  },
  {
   "cell_type": "code",
   "execution_count": null,
   "metadata": {},
   "outputs": [
    {
     "data": {
      "text/html": [
       "<div>\n",
       "<style scoped>\n",
       "    .dataframe tbody tr th:only-of-type {\n",
       "        vertical-align: middle;\n",
       "    }\n",
       "\n",
       "    .dataframe tbody tr th {\n",
       "        vertical-align: top;\n",
       "    }\n",
       "\n",
       "    .dataframe thead th {\n",
       "        text-align: right;\n",
       "    }\n",
       "</style>\n",
       "<table border=\"1\" class=\"dataframe\">\n",
       "  <thead>\n",
       "    <tr style=\"text-align: right;\">\n",
       "      <th></th>\n",
       "      <th>Product_A</th>\n",
       "      <th>Product_B</th>\n",
       "      <th>Product_C</th>\n",
       "    </tr>\n",
       "  </thead>\n",
       "  <tbody>\n",
       "    <tr>\n",
       "      <th>0</th>\n",
       "      <td>200</td>\n",
       "      <td>220</td>\n",
       "      <td>250</td>\n",
       "    </tr>\n",
       "    <tr>\n",
       "      <th>1</th>\n",
       "      <td>275</td>\n",
       "      <td>300</td>\n",
       "      <td>320</td>\n",
       "    </tr>\n",
       "    <tr>\n",
       "      <th>2</th>\n",
       "      <td>350</td>\n",
       "      <td>400</td>\n",
       "      <td>450</td>\n",
       "    </tr>\n",
       "    <tr>\n",
       "      <th>3</th>\n",
       "      <td>500</td>\n",
       "      <td>550</td>\n",
       "      <td>600</td>\n",
       "    </tr>\n",
       "    <tr>\n",
       "      <th>4</th>\n",
       "      <td>600</td>\n",
       "      <td>650</td>\n",
       "      <td>700</td>\n",
       "    </tr>\n",
       "    <tr>\n",
       "      <th>5</th>\n",
       "      <td>700</td>\n",
       "      <td>750</td>\n",
       "      <td>800</td>\n",
       "    </tr>\n",
       "    <tr>\n",
       "      <th>6</th>\n",
       "      <td>800</td>\n",
       "      <td>850</td>\n",
       "      <td>900</td>\n",
       "    </tr>\n",
       "    <tr>\n",
       "      <th>7</th>\n",
       "      <td>900</td>\n",
       "      <td>950</td>\n",
       "      <td>1000</td>\n",
       "    </tr>\n",
       "    <tr>\n",
       "      <th>8</th>\n",
       "      <td>1000</td>\n",
       "      <td>1100</td>\n",
       "      <td>1200</td>\n",
       "    </tr>\n",
       "    <tr>\n",
       "      <th>9</th>\n",
       "      <td>1100</td>\n",
       "      <td>1200</td>\n",
       "      <td>1300</td>\n",
       "    </tr>\n",
       "  </tbody>\n",
       "</table>\n",
       "</div>"
      ],
      "text/plain": [
       "   Product_A  Product_B  Product_C\n",
       "0        200        220        250\n",
       "1        275        300        320\n",
       "2        350        400        450\n",
       "3        500        550        600\n",
       "4        600        650        700\n",
       "5        700        750        800\n",
       "6        800        850        900\n",
       "7        900        950       1000\n",
       "8       1000       1100       1200\n",
       "9       1100       1200       1300"
      ]
     },
     "execution_count": 25,
     "metadata": {},
     "output_type": "execute_result"
    }
   ],
   "source": [
    "import pandas as pd\n",
    "df = pd.DataFrame(sales_2d, columns=['Product_A', 'Product_B', 'Product_C'])\n",
    "df.to_csv('sales_data.csv', index=False)"
   ]
  },
  {
   "cell_type": "code",
   "execution_count": null,
   "metadata": {},
   "outputs": [],
   "source": [
    "# accessing elements\n"
   ]
  },
  {
   "cell_type": "code",
   "execution_count": null,
   "metadata": {},
   "outputs": [],
   "source": []
  },
  {
   "cell_type": "code",
   "execution_count": 5,
   "metadata": {},
   "outputs": [
    {
     "name": "stdout",
     "output_type": "stream",
     "text": [
      "86.6\n",
      "88.0\n",
      "90.0\n"
     ]
    }
   ],
   "source": [
    "import numpy as np\n",
    "\n",
    "# create a simple marks array\n",
    "marks = np.array([85, 90, 78, 92, 88])\n",
    "# find the avg marks\n",
    "average_marks = np.mean(marks)\n",
    "median_marks = np.median(marks)\n",
    "#75th percentile\n",
    "percentile_75 = np.percentile(marks, 75)\n",
    "print(average_marks)\n",
    "print(median_marks)\n",
    "print(percentile_75)"
   ]
  },
  {
   "cell_type": "code",
   "execution_count": 14,
   "metadata": {},
   "outputs": [
    {
     "name": "stdout",
     "output_type": "stream",
     "text": [
      "(3, 3)\n",
      "(1, 3)\n",
      "[[ 30  36  42]\n",
      " [ 66  81  96]\n",
      " [102 126 150]]\n"
     ]
    }
   ],
   "source": [
    "#lets create one simple matrix\n",
    "matrix = np.array([[1, 2, 3], [4, 5, 6], [7, 8, 9]])\n",
    "print(matrix.shape)\n",
    "# create 1 by 3 matrix\n",
    "matrix_1x3 = np.array([[1, 2, 3]])\n",
    "print(matrix_1x3.shape)\n",
    "# print(matrix_1x3)\n",
    "\n",
    "# multiply matrix_1x3 by matrix\n",
    "result = matrix.dot(matrix)\n",
    "print(result)"
   ]
  },
  {
   "cell_type": "code",
   "execution_count": 23,
   "metadata": {},
   "outputs": [
    {
     "data": {
      "text/plain": [
       "array([1, 2, 3, 4, 5, 6, 7, 8, 9])"
      ]
     },
     "execution_count": 23,
     "metadata": {},
     "output_type": "execute_result"
    }
   ],
   "source": [
    "# lets talk about all the available attribute in numpy arrays\n",
    "# create a matrix\n",
    "matrix = np.array([[1, 2, 3], [4, 5, 6], [7, 8, 9]])\n",
    "matrix = matrix.flatten()\n",
    "matrix"
   ]
  },
  {
   "cell_type": "code",
   "execution_count": null,
   "metadata": {},
   "outputs": [],
   "source": []
  },
  {
   "cell_type": "code",
   "execution_count": null,
   "metadata": {},
   "outputs": [],
   "source": []
  },
  {
   "cell_type": "code",
   "execution_count": null,
   "metadata": {},
   "outputs": [],
   "source": []
  },
  {
   "cell_type": "code",
   "execution_count": null,
   "metadata": {},
   "outputs": [],
   "source": []
  },
  {
   "cell_type": "code",
   "execution_count": 10,
   "metadata": {},
   "outputs": [
    {
     "data": {
      "text/plain": [
       "array([[1, 2, 3],\n",
       "       [4, 5, 6],\n",
       "       [7, 8, 9]])"
      ]
     },
     "execution_count": 10,
     "metadata": {},
     "output_type": "execute_result"
    }
   ],
   "source": [
    "matrix\n"
   ]
  },
  {
   "cell_type": "code",
   "execution_count": 11,
   "metadata": {},
   "outputs": [
    {
     "data": {
      "text/plain": [
       "array([[1, 2, 3]])"
      ]
     },
     "execution_count": 11,
     "metadata": {},
     "output_type": "execute_result"
    }
   ],
   "source": [
    "matrix_1x3"
   ]
  },
  {
   "cell_type": "code",
   "execution_count": null,
   "metadata": {},
   "outputs": [],
   "source": []
  },
  {
   "cell_type": "code",
   "execution_count": 24,
   "metadata": {
    "id": "y_KYb8ZeD-PJ",
    "outputId": "9f6d8f9d-243e-4a5f-aa9d-6f109ccec44f"
   },
   "outputs": [
    {
     "name": "stdout",
     "output_type": "stream",
     "text": [
      "[[0 1 2 3]\n",
      " [0 1 2 3]]\n"
     ]
    },
    {
     "data": {
      "text/plain": [
       "2"
      ]
     },
     "execution_count": 24,
     "metadata": {},
     "output_type": "execute_result"
    }
   ],
   "source": [
    "import numpy as np\n",
    "a = np.array([[0, 1, 2, 3],[0, 1, 2, 3]])\n",
    "print(a)\n",
    "a.ndim\n",
    "# print(np.arange(10))"
   ]
  },
  {
   "cell_type": "markdown",
   "metadata": {
    "id": "JMKi9chQD-PM"
   },
   "source": [
    "**Why it is useful:** Memory-efficient container that provides fast numerical operations."
   ]
  },
  {
   "cell_type": "code",
   "execution_count": 25,
   "metadata": {
    "id": "PYHDENpkD-PM",
    "outputId": "5b103cc9-1734-4b36-e21e-5e553448bdcf"
   },
   "outputs": [
    {
     "name": "stdout",
     "output_type": "stream",
     "text": [
      "20.3 μs ± 67.9 ns per loop (mean ± std. dev. of 7 runs, 10,000 loops each)\n"
     ]
    }
   ],
   "source": [
    "#python lists\n",
    "L = range(1000)\n",
    "\n",
    "%timeit [i**2 for i in L]"
   ]
  },
  {
   "cell_type": "code",
   "execution_count": 26,
   "metadata": {
    "id": "Oadbt-0eD-PN",
    "outputId": "df8bd9f4-f993-4e84-a984-e8b1762e75d9"
   },
   "outputs": [
    {
     "name": "stdout",
     "output_type": "stream",
     "text": [
      "453 ns ± 3.01 ns per loop (mean ± std. dev. of 7 runs, 1,000,000 loops each)\n"
     ]
    }
   ],
   "source": [
    "a = np.arange(1000)\n",
    "%timeit a**2"
   ]
  },
  {
   "cell_type": "markdown",
   "metadata": {
    "id": "LcVqx8BkD-PO"
   },
   "source": [
    "# 1. Creating arrays"
   ]
  },
  {
   "cell_type": "markdown",
   "metadata": {
    "id": "xpktqiv1D-PP"
   },
   "source": [
    "** 1.1.  Manual Construction of arrays**"
   ]
  },
  {
   "cell_type": "code",
   "execution_count": 27,
   "metadata": {
    "id": "b8yRs8GqD-PQ",
    "outputId": "f1186ee6-c9f2-4925-f4c4-c9a5641096e3"
   },
   "outputs": [
    {
     "data": {
      "text/plain": [
       "array([0, 1, 2, 3])"
      ]
     },
     "execution_count": 27,
     "metadata": {},
     "output_type": "execute_result"
    }
   ],
   "source": [
    "#1-D\n",
    "\n",
    "a = np.array([0, 1, 2, 3])\n",
    "\n",
    "a"
   ]
  },
  {
   "cell_type": "code",
   "execution_count": 28,
   "metadata": {
    "id": "9-PqzzoxD-PR",
    "outputId": "d89df02f-00dd-463d-e4ff-865e6ed0fc33"
   },
   "outputs": [
    {
     "data": {
      "text/plain": [
       "1"
      ]
     },
     "execution_count": 28,
     "metadata": {},
     "output_type": "execute_result"
    }
   ],
   "source": [
    "#print dimensions\n",
    "\n",
    "a.ndim"
   ]
  },
  {
   "cell_type": "code",
   "execution_count": 29,
   "metadata": {
    "id": "yMuu5KSQD-PR",
    "outputId": "384b67ab-b4f7-4260-9880-fc0bb0b7f039"
   },
   "outputs": [
    {
     "data": {
      "text/plain": [
       "(4,)"
      ]
     },
     "execution_count": 29,
     "metadata": {},
     "output_type": "execute_result"
    }
   ],
   "source": [
    "#shape\n",
    "\n",
    "a.shape"
   ]
  },
  {
   "cell_type": "code",
   "execution_count": 30,
   "metadata": {
    "id": "XhSWCklbD-PS",
    "outputId": "e9502d16-cead-455b-faae-ec15eaa54f56"
   },
   "outputs": [
    {
     "data": {
      "text/plain": [
       "4"
      ]
     },
     "execution_count": 30,
     "metadata": {},
     "output_type": "execute_result"
    }
   ],
   "source": [
    "len(a)"
   ]
  },
  {
   "cell_type": "code",
   "execution_count": 31,
   "metadata": {
    "id": "Rt0bXm5FD-PT",
    "outputId": "5f039f96-c243-4f64-90dd-6eefe447cc12"
   },
   "outputs": [
    {
     "data": {
      "text/plain": [
       "array([[0, 1, 2],\n",
       "       [3, 4, 5]])"
      ]
     },
     "execution_count": 31,
     "metadata": {},
     "output_type": "execute_result"
    }
   ],
   "source": [
    "# 2-D, 3-D....\n",
    "\n",
    "b = np.array([[0, 1, 2], [3, 4, 5]])\n",
    "\n",
    "b"
   ]
  },
  {
   "cell_type": "code",
   "execution_count": 32,
   "metadata": {
    "id": "5YVNmaXlD-PT",
    "outputId": "59a981f8-9b6c-403c-ed5b-b6666f43117c"
   },
   "outputs": [
    {
     "data": {
      "text/plain": [
       "2"
      ]
     },
     "execution_count": 32,
     "metadata": {},
     "output_type": "execute_result"
    }
   ],
   "source": [
    "b.ndim"
   ]
  },
  {
   "cell_type": "code",
   "execution_count": 33,
   "metadata": {
    "id": "jTz7-RU6D-PU",
    "outputId": "56702944-6882-4363-8980-c1aea1524941"
   },
   "outputs": [
    {
     "data": {
      "text/plain": [
       "(2, 3)"
      ]
     },
     "execution_count": 33,
     "metadata": {},
     "output_type": "execute_result"
    }
   ],
   "source": [
    "b.shape"
   ]
  },
  {
   "cell_type": "code",
   "execution_count": 34,
   "metadata": {
    "id": "mECFgXzdD-PU",
    "outputId": "c4c0bfa6-7f31-44b4-9b5d-7d2052282036"
   },
   "outputs": [
    {
     "data": {
      "text/plain": [
       "2"
      ]
     },
     "execution_count": 34,
     "metadata": {},
     "output_type": "execute_result"
    }
   ],
   "source": [
    "len(b) #returns the size of the first dimention"
   ]
  },
  {
   "cell_type": "code",
   "execution_count": 35,
   "metadata": {
    "id": "eQ7x0Sc-D-PV",
    "outputId": "774af425-fe6e-4b2d-b9a1-2d5f42daefd4"
   },
   "outputs": [
    {
     "data": {
      "text/plain": [
       "array([[[0, 1],\n",
       "        [2, 3]],\n",
       "\n",
       "       [[4, 5],\n",
       "        [6, 7]]])"
      ]
     },
     "execution_count": 35,
     "metadata": {},
     "output_type": "execute_result"
    }
   ],
   "source": [
    "c = np.array([[[0, 1], [2, 3]], [[4, 5], [6, 7]]])\n",
    "\n",
    "c"
   ]
  },
  {
   "cell_type": "code",
   "execution_count": 36,
   "metadata": {},
   "outputs": [
    {
     "data": {
      "text/plain": [
       "(2, 2, 2)"
      ]
     },
     "execution_count": 36,
     "metadata": {},
     "output_type": "execute_result"
    }
   ],
   "source": [
    "c.shape"
   ]
  },
  {
   "cell_type": "code",
   "execution_count": 37,
   "metadata": {
    "id": "azmj4kByD-PV",
    "outputId": "1cb1e16b-d516-4546-bdc8-53420ab83fbc"
   },
   "outputs": [
    {
     "data": {
      "text/plain": [
       "3"
      ]
     },
     "execution_count": 37,
     "metadata": {},
     "output_type": "execute_result"
    }
   ],
   "source": [
    "c.ndim"
   ]
  },
  {
   "cell_type": "code",
   "execution_count": 38,
   "metadata": {
    "id": "XEITKCSbD-PW",
    "outputId": "9d3778cf-d78d-4b93-d08c-847fc91924ae"
   },
   "outputs": [
    {
     "data": {
      "text/plain": [
       "(2, 2, 2)"
      ]
     },
     "execution_count": 38,
     "metadata": {},
     "output_type": "execute_result"
    }
   ],
   "source": [
    "c.shape"
   ]
  },
  {
   "cell_type": "markdown",
   "metadata": {
    "id": "d8oeADAmD-PW"
   },
   "source": [
    "** 1.2  Functions for creating arrays**"
   ]
  },
  {
   "cell_type": "code",
   "execution_count": 39,
   "metadata": {
    "id": "apcfy67uD-PW",
    "outputId": "3de8e8a4-4b87-4758-8064-7b6b54811a8c"
   },
   "outputs": [
    {
     "data": {
      "text/plain": [
       "array([0, 1, 2, 3, 4, 5, 6, 7, 8, 9])"
      ]
     },
     "execution_count": 39,
     "metadata": {},
     "output_type": "execute_result"
    }
   ],
   "source": [
    "#using arrange function\n",
    "\n",
    "# arange is an array-valued version of the built-in Python range function\n",
    "\n",
    "a = np.arange(10) # 0.... n-1\n",
    "a"
   ]
  },
  {
   "cell_type": "code",
   "execution_count": 41,
   "metadata": {
    "id": "bzR-I_jpD-PX",
    "outputId": "c34294d0-109a-4277-8e0d-6e18d09328f7"
   },
   "outputs": [
    {
     "data": {
      "text/plain": [
       "array([1, 3, 5, 7, 9])"
      ]
     },
     "execution_count": 41,
     "metadata": {},
     "output_type": "execute_result"
    }
   ],
   "source": [
    "b = np.arange(1, 10, 2) #start, end (exclusive), step\n",
    "\n",
    "b"
   ]
  },
  {
   "cell_type": "code",
   "execution_count": 42,
   "metadata": {
    "id": "1J_69ljCD-PX",
    "outputId": "3414c530-0c5e-4fac-ed61-e04a8f454063"
   },
   "outputs": [
    {
     "data": {
      "text/plain": [
       "array([0. , 0.6, 1.2, 1.8, 2.4, 3. ])"
      ]
     },
     "execution_count": 42,
     "metadata": {},
     "output_type": "execute_result"
    }
   ],
   "source": [
    "#using linspace\n",
    "\n",
    "a = np.linspace(0, 3, 6) #start, end, number of points\n",
    "\n",
    "a"
   ]
  },
  {
   "cell_type": "code",
   "execution_count": 43,
   "metadata": {
    "id": "M2DrWs7WD-PY",
    "outputId": "ed040d86-a247-46d5-db59-c073889189cb"
   },
   "outputs": [
    {
     "data": {
      "text/plain": [
       "array([[1., 1., 1.],\n",
       "       [1., 1., 1.],\n",
       "       [1., 1., 1.]])"
      ]
     },
     "execution_count": 43,
     "metadata": {},
     "output_type": "execute_result"
    }
   ],
   "source": [
    "#common arrays\n",
    "\n",
    "a = np.ones((3, 3))\n",
    "\n",
    "a"
   ]
  },
  {
   "cell_type": "code",
   "execution_count": 44,
   "metadata": {
    "id": "5vzNB5W6D-PY",
    "outputId": "ec6e1a6e-93d7-4054-a64a-5df66ac3902e"
   },
   "outputs": [
    {
     "data": {
      "text/plain": [
       "array([[0., 0., 0.],\n",
       "       [0., 0., 0.],\n",
       "       [0., 0., 0.]])"
      ]
     },
     "execution_count": 44,
     "metadata": {},
     "output_type": "execute_result"
    }
   ],
   "source": [
    "b = np.zeros((3, 3))\n",
    "\n",
    "b"
   ]
  },
  {
   "cell_type": "code",
   "execution_count": 45,
   "metadata": {
    "id": "0s5u8vEZD-PZ",
    "outputId": "3fa76228-a08c-43bc-859e-25b50b976daf"
   },
   "outputs": [
    {
     "data": {
      "text/plain": [
       "array([[1., 0.],\n",
       "       [0., 1.]])"
      ]
     },
     "execution_count": 45,
     "metadata": {},
     "output_type": "execute_result"
    }
   ],
   "source": [
    "c = np.eye(2)  #Return a 2-D array with ones on the diagonal and zeros elsewhere.\n",
    "\n",
    "c"
   ]
  },
  {
   "cell_type": "code",
   "execution_count": 46,
   "metadata": {
    "id": "eiICiB-ID-PZ",
    "outputId": "161fbf9c-a17a-4474-c8bf-95ed3194f3d3"
   },
   "outputs": [
    {
     "data": {
      "text/plain": [
       "array([[1., 0.],\n",
       "       [0., 1.],\n",
       "       [0., 0.]])"
      ]
     },
     "execution_count": 46,
     "metadata": {},
     "output_type": "execute_result"
    }
   ],
   "source": [
    "d = np.eye(3, 2) #3 is number of rows, 2 is number of columns, index of diagonal start with 0\n",
    "\n",
    "d"
   ]
  },
  {
   "cell_type": "code",
   "execution_count": 47,
   "metadata": {
    "id": "ozqDGRtND-Pa",
    "outputId": "554dab00-cdb0-47a1-d124-75b381ae15b3"
   },
   "outputs": [
    {
     "data": {
      "text/plain": [
       "array([[1, 0, 0, 0],\n",
       "       [0, 2, 0, 0],\n",
       "       [0, 0, 3, 0],\n",
       "       [0, 0, 0, 4]])"
      ]
     },
     "execution_count": 47,
     "metadata": {},
     "output_type": "execute_result"
    }
   ],
   "source": [
    "#create array using diag function\n",
    "\n",
    "a = np.diag([1, 2, 3, 4]) #construct a diagonal array.\n",
    "\n",
    "a"
   ]
  },
  {
   "cell_type": "code",
   "execution_count": 48,
   "metadata": {
    "id": "O-Yg1QAqD-Pb",
    "outputId": "60e1b047-c7ea-46e7-97f5-9322333be992"
   },
   "outputs": [
    {
     "data": {
      "text/plain": [
       "array([1, 2, 3, 4])"
      ]
     },
     "execution_count": 48,
     "metadata": {},
     "output_type": "execute_result"
    }
   ],
   "source": [
    "np.diag(a)   #Extract diagonal"
   ]
  },
  {
   "cell_type": "code",
   "execution_count": 50,
   "metadata": {
    "id": "nL0qAl_mD-Pb",
    "outputId": "292f7a0e-f977-4c06-e587-7a36bc5804aa"
   },
   "outputs": [
    {
     "data": {
      "text/plain": [
       "array([0.88290352, 0.50420509, 0.02496344, 0.14617317, 0.12758945,\n",
       "       0.4673385 , 0.53000486, 0.70339422, 0.22844506, 0.09911315,\n",
       "       0.72974706, 0.51529339, 0.58556909, 0.28428368, 0.52316068])"
      ]
     },
     "execution_count": 50,
     "metadata": {},
     "output_type": "execute_result"
    }
   ],
   "source": [
    "#create array using random\n",
    "\n",
    "#Create an array of the given shape and populate it with random samples from a uniform distribution over [0, 1).\n",
    "a = np.random.rand(15) \n",
    "\n",
    "a"
   ]
  },
  {
   "cell_type": "code",
   "execution_count": 51,
   "metadata": {
    "id": "UBnFxJilD-Pc",
    "outputId": "13c2b09c-e624-41d9-92e4-10221c4a617b"
   },
   "outputs": [
    {
     "data": {
      "text/plain": [
       "array([ 2.63189646,  0.32566963, -1.80168582,  0.44005034])"
      ]
     },
     "execution_count": 51,
     "metadata": {},
     "output_type": "execute_result"
    }
   ],
   "source": [
    "a = np.random.randn(4)#Return a sample (or samples) from the “standard normal” distribution.  ***Gausian***\n",
    "\n",
    "a"
   ]
  },
  {
   "cell_type": "markdown",
   "metadata": {
    "id": "M9iPsFKTD-Pd"
   },
   "source": [
    "**Note:**\n",
    "    \n",
    "For random samples from N(\\mu, \\sigma^2), use:\n",
    "\n",
    "sigma * np.random.randn(...) + mu\n",
    "\n"
   ]
  },
  {
   "cell_type": "markdown",
   "metadata": {
    "id": "VVbWT6KvD-Pd"
   },
   "source": [
    "# 2. Basic DataTypes"
   ]
  },
  {
   "cell_type": "markdown",
   "metadata": {
    "id": "2IdPHt_PD-Pe"
   },
   "source": [
    "You may have noticed that, in some instances, array elements are displayed with a **trailing dot (e.g. 2. vs 2)**. This is due to a difference in the **data-type** used:"
   ]
  },
  {
   "cell_type": "code",
   "execution_count": 52,
   "metadata": {
    "id": "Otbcvmb4D-Pe",
    "outputId": "e60caeb7-9aee-452a-80c1-574ae95aab12"
   },
   "outputs": [
    {
     "data": {
      "text/plain": [
       "dtype('int64')"
      ]
     },
     "execution_count": 52,
     "metadata": {},
     "output_type": "execute_result"
    }
   ],
   "source": [
    "a = np.arange(10)\n",
    "\n",
    "a.dtype"
   ]
  },
  {
   "cell_type": "code",
   "execution_count": null,
   "metadata": {
    "id": "ysElniOfD-Pe",
    "outputId": "33ddaefa-b54b-4b32-de66-45edaf7cbe43"
   },
   "outputs": [],
   "source": [
    "#You can explicitly specify which data-type you want:\n",
    "\n",
    "a = np.arange(10, dtype='float64')\n",
    "a"
   ]
  },
  {
   "cell_type": "code",
   "execution_count": 53,
   "metadata": {
    "id": "OCf7bY5AD-Pf",
    "outputId": "6bd7a65d-c9ed-4859-9e37-f733d0399a89"
   },
   "outputs": [
    {
     "name": "stdout",
     "output_type": "stream",
     "text": [
      "[[0. 0. 0.]\n",
      " [0. 0. 0.]\n",
      " [0. 0. 0.]]\n"
     ]
    },
    {
     "data": {
      "text/plain": [
       "dtype('float64')"
      ]
     },
     "execution_count": 53,
     "metadata": {},
     "output_type": "execute_result"
    }
   ],
   "source": [
    "#The default data type is float for zeros and ones function\n",
    "\n",
    "a = np.zeros((3, 3))\n",
    "\n",
    "print(a)\n",
    "\n",
    "a.dtype"
   ]
  },
  {
   "cell_type": "markdown",
   "metadata": {
    "id": "2U2284_fD-Pf"
   },
   "source": [
    "**other datatypes**"
   ]
  },
  {
   "cell_type": "code",
   "execution_count": 54,
   "metadata": {
    "id": "WEivn3F2D-Pg",
    "outputId": "1645e840-1ad6-450a-9034-c21e96396d56"
   },
   "outputs": [
    {
     "name": "stdout",
     "output_type": "stream",
     "text": [
      "complex128\n"
     ]
    }
   ],
   "source": [
    "d = np.array([1+2j, 2+4j])   #Complex datatype\n",
    "\n",
    "print(d.dtype)"
   ]
  },
  {
   "cell_type": "code",
   "execution_count": 56,
   "metadata": {
    "id": "Y6iUj0JVD-Ph",
    "outputId": "1e753669-a8bb-4a40-c426-63ad20ec0af9"
   },
   "outputs": [
    {
     "name": "stdout",
     "output_type": "stream",
     "text": [
      "bool\n"
     ]
    }
   ],
   "source": [
    "b = np.array([True, False, True, False])  #Boolean datatype\n",
    "\n",
    "print(b.dtype)"
   ]
  },
  {
   "cell_type": "code",
   "execution_count": 57,
   "metadata": {
    "id": "1cefufqnD-Ph",
    "outputId": "0dde21e3-6feb-48a5-b539-31fbcad8ba89"
   },
   "outputs": [
    {
     "data": {
      "text/plain": [
       "dtype('<U6')"
      ]
     },
     "execution_count": 57,
     "metadata": {},
     "output_type": "execute_result"
    }
   ],
   "source": [
    "s = np.array(['Ram', 'Robert', 'Rahim'])\n",
    "\n",
    "s.dtype"
   ]
  },
  {
   "cell_type": "markdown",
   "metadata": {
    "id": "dNQs5XXHD-Pi"
   },
   "source": [
    "**Each built-in data type has a character code that uniquely identifies it.**\n",
    "\n",
    "'b' − boolean\n",
    "\n",
    "'i' − (signed) integer\n",
    "\n",
    "'u' − unsigned integer\n",
    "\n",
    "'f' − floating-point\n",
    "\n",
    "'c' − complex-floating point\n",
    "\n",
    "'m' − timedelta\n",
    "\n",
    "'M' − datetime\n",
    "\n",
    "'O' − (Python) objects\n",
    "\n",
    "'S', 'a' − (byte-)string\n",
    "\n",
    "'U' − Unicode\n",
    "\n",
    "'V' − raw data (void)"
   ]
  },
  {
   "cell_type": "markdown",
   "metadata": {
    "id": "ljMhcKROD-Pi"
   },
   "source": [
    "**For more details**\n",
    "\n",
    "**https://docs.scipy.org/doc/numpy-1.10.1/user/basics.types.html**"
   ]
  },
  {
   "cell_type": "markdown",
   "metadata": {
    "id": "5mdDFotRD-Pi"
   },
   "source": [
    "# 3. Indexing and Slicing"
   ]
  },
  {
   "cell_type": "markdown",
   "metadata": {
    "id": "tFq70i7VD-Pi"
   },
   "source": [
    "**3.1 Indexing**"
   ]
  },
  {
   "cell_type": "markdown",
   "metadata": {
    "id": "gqs1ZgKPD-Pj"
   },
   "source": [
    "The items of an array can be accessed and assigned to the same way as other **Python sequences (e.g. lists)**:"
   ]
  },
  {
   "cell_type": "code",
   "execution_count": 58,
   "metadata": {
    "id": "Ob1wcGFhD-Pj",
    "outputId": "7c7f2a09-dc5e-40f4-d749-476eefcb795f"
   },
   "outputs": [
    {
     "name": "stdout",
     "output_type": "stream",
     "text": [
      "[0 1 2 3 4 5 6 7 8 9]\n",
      "5\n"
     ]
    }
   ],
   "source": [
    "a = np.arange(10)\n",
    "print(a)\n",
    "print(a[5])  #indices begin at 0, like other Python sequences (and C/C++)"
   ]
  },
  {
   "cell_type": "code",
   "execution_count": 59,
   "metadata": {
    "id": "psTICo_vD-Pj",
    "outputId": "335dcaa5-fbd0-4b8a-f91d-fd01143d7027"
   },
   "outputs": [
    {
     "name": "stdout",
     "output_type": "stream",
     "text": [
      "[[1 0 0]\n",
      " [0 2 0]\n",
      " [0 0 3]]\n",
      "0\n"
     ]
    }
   ],
   "source": [
    "# For multidimensional arrays, indexes are tuples of integers:\n",
    "\n",
    "a = np.diag([1, 2, 3])\n",
    "print(a)\n",
    "print(a[0, 1])"
   ]
  },
  {
   "cell_type": "code",
   "execution_count": 60,
   "metadata": {
    "id": "2QuSZrgwD-Pj",
    "outputId": "a5f94bae-7532-4694-c0c9-8b03cbd37c24"
   },
   "outputs": [
    {
     "data": {
      "text/plain": [
       "array([[1, 5, 0],\n",
       "       [0, 2, 0],\n",
       "       [0, 0, 3]])"
      ]
     },
     "execution_count": 60,
     "metadata": {},
     "output_type": "execute_result"
    }
   ],
   "source": [
    "a[0, 1] = 5 #assigning value\n",
    "\n",
    "a"
   ]
  },
  {
   "cell_type": "markdown",
   "metadata": {
    "id": "Sq9HnON9D-Pk"
   },
   "source": [
    "**3.2 Slicing**"
   ]
  },
  {
   "cell_type": "code",
   "execution_count": 61,
   "metadata": {
    "id": "l0TgyUZxD-Pk",
    "outputId": "98a67b58-0292-4a34-cd73-562321700fa7"
   },
   "outputs": [
    {
     "data": {
      "text/plain": [
       "array([0, 1, 2, 3, 4, 5, 6, 7, 8, 9])"
      ]
     },
     "execution_count": 61,
     "metadata": {},
     "output_type": "execute_result"
    }
   ],
   "source": [
    "a = np.arange(10)\n",
    "\n",
    "a"
   ]
  },
  {
   "cell_type": "code",
   "execution_count": 62,
   "metadata": {
    "id": "ErO8kH5wD-Pk",
    "outputId": "4570255c-7d86-43b6-f075-acb5b61c7310"
   },
   "outputs": [
    {
     "data": {
      "text/plain": [
       "array([1, 3, 5, 7])"
      ]
     },
     "execution_count": 62,
     "metadata": {},
     "output_type": "execute_result"
    }
   ],
   "source": [
    "a[1:8:2] # [startindex: endindex(exclusive) : step]"
   ]
  },
  {
   "cell_type": "code",
   "execution_count": 63,
   "metadata": {
    "id": "ctROJMVAD-Pk",
    "outputId": "8d0f0370-83c4-4b62-b903-c41b1172890f"
   },
   "outputs": [
    {
     "data": {
      "text/plain": [
       "array([ 0,  1,  2,  3,  4, 10, 10, 10, 10, 10])"
      ]
     },
     "execution_count": 63,
     "metadata": {},
     "output_type": "execute_result"
    }
   ],
   "source": [
    "#we can also combine assignment and slicing:\n",
    "\n",
    "a = np.arange(10)\n",
    "a[5:] = 10\n",
    "a"
   ]
  },
  {
   "cell_type": "code",
   "execution_count": 65,
   "metadata": {},
   "outputs": [
    {
     "data": {
      "text/plain": [
       "array([4, 3, 2, 1, 0])"
      ]
     },
     "execution_count": 65,
     "metadata": {},
     "output_type": "execute_result"
    }
   ],
   "source": [
    "b[::-1]"
   ]
  },
  {
   "cell_type": "code",
   "execution_count": 64,
   "metadata": {
    "id": "lcQICkmzD-Pl",
    "outputId": "a1d5a77b-06bc-44a0-9c0f-2eac7359510b"
   },
   "outputs": [
    {
     "name": "stdout",
     "output_type": "stream",
     "text": [
      "[0 1 2 3 4]\n"
     ]
    },
    {
     "data": {
      "text/plain": [
       "array([0, 1, 2, 3, 4, 4, 3, 2, 1, 0])"
      ]
     },
     "execution_count": 64,
     "metadata": {},
     "output_type": "execute_result"
    }
   ],
   "source": [
    "b = np.arange(5)\n",
    "print(b)\n",
    "a[5:] = b[::-1]  #assigning\n",
    "\n",
    "a"
   ]
  },
  {
   "cell_type": "markdown",
   "metadata": {
    "id": "oZ_wGs0uD-Pm"
   },
   "source": [
    "# 4. Copies and Views"
   ]
  },
  {
   "cell_type": "markdown",
   "metadata": {
    "id": "2BUGFCrPD-Pn"
   },
   "source": [
    "A slicing operation creates a view on the original array, which is just a way of accessing array data. Thus the original array is not copied in memory. You can use **np.may_share_memory()** to check if two arrays share the same memory block. "
   ]
  },
  {
   "cell_type": "markdown",
   "metadata": {
    "id": "zbWHJh3ID-Po"
   },
   "source": [
    "**When modifying the view, the original array is modified as well:**"
   ]
  },
  {
   "cell_type": "code",
   "execution_count": 66,
   "metadata": {
    "id": "reXUXJIQD-Po",
    "outputId": "0b459eff-d0ef-4e73-8457-af439e5b0ed8"
   },
   "outputs": [
    {
     "data": {
      "text/plain": [
       "array([0, 1, 2, 3, 4, 5, 6, 7, 8, 9])"
      ]
     },
     "execution_count": 66,
     "metadata": {},
     "output_type": "execute_result"
    }
   ],
   "source": [
    "a = np.arange(10)\n",
    "a"
   ]
  },
  {
   "cell_type": "code",
   "execution_count": 70,
   "metadata": {
    "id": "menZx-x0D-Pp",
    "outputId": "a2e60639-a5ee-4684-ae00-2226a1632c67"
   },
   "outputs": [
    {
     "data": {
      "text/plain": [
       "array([0, 2, 4, 6, 8])"
      ]
     },
     "execution_count": 70,
     "metadata": {},
     "output_type": "execute_result"
    }
   ],
   "source": [
    "b = a[::2]\n",
    "b"
   ]
  },
  {
   "cell_type": "code",
   "execution_count": 71,
   "metadata": {
    "id": "ssYeVDeND-Pp",
    "outputId": "7d4946e9-b97e-44f1-c4ae-637f949eaf03"
   },
   "outputs": [
    {
     "data": {
      "text/plain": [
       "True"
      ]
     },
     "execution_count": 71,
     "metadata": {},
     "output_type": "execute_result"
    }
   ],
   "source": [
    "np.shares_memory(a, b)"
   ]
  },
  {
   "cell_type": "code",
   "execution_count": 72,
   "metadata": {
    "id": "mfAkZEo1D-Pp",
    "outputId": "d3c44a5c-3b5c-4b58-fe69-35bef53aa7b0"
   },
   "outputs": [
    {
     "data": {
      "text/plain": [
       "array([10,  2,  4,  6,  8])"
      ]
     },
     "execution_count": 72,
     "metadata": {},
     "output_type": "execute_result"
    }
   ],
   "source": [
    "b[0] = 10\n",
    "b"
   ]
  },
  {
   "cell_type": "code",
   "execution_count": 73,
   "metadata": {
    "id": "7Y0W7sbUD-Pq",
    "outputId": "7a9877c6-ac94-4191-8896-f402e3c4555b"
   },
   "outputs": [
    {
     "data": {
      "text/plain": [
       "array([10,  1,  2,  3,  4,  5,  6,  7,  8,  9])"
      ]
     },
     "execution_count": 73,
     "metadata": {},
     "output_type": "execute_result"
    }
   ],
   "source": [
    "a  #eventhough we modified b,  it updated 'a' because both shares same memory"
   ]
  },
  {
   "cell_type": "code",
   "execution_count": 75,
   "metadata": {
    "id": "tK7sOBopD-Pq",
    "outputId": "1f691d33-f40b-4c5e-fddf-3bdb2f83445b"
   },
   "outputs": [
    {
     "data": {
      "text/plain": [
       "array([0, 2, 4, 6, 8])"
      ]
     },
     "execution_count": 75,
     "metadata": {},
     "output_type": "execute_result"
    }
   ],
   "source": [
    "\n",
    "\n",
    "a = np.arange(10)\n",
    "\n",
    "c = a[::2].copy()     #force a copy\n",
    "c"
   ]
  },
  {
   "cell_type": "code",
   "execution_count": 76,
   "metadata": {
    "id": "_vXfh8CYD-Pq",
    "outputId": "f376ef6d-4773-48b6-e3f7-0156d794ac18"
   },
   "outputs": [
    {
     "data": {
      "text/plain": [
       "False"
      ]
     },
     "execution_count": 76,
     "metadata": {},
     "output_type": "execute_result"
    }
   ],
   "source": [
    "np.shares_memory(a, c)"
   ]
  },
  {
   "cell_type": "code",
   "execution_count": null,
   "metadata": {
    "id": "IqzjAA5FD-Pq",
    "outputId": "3fd6eb3c-37cf-4d2b-f355-0a83f166dce3"
   },
   "outputs": [],
   "source": [
    "c[0] = 10\n",
    "\n",
    "a"
   ]
  },
  {
   "cell_type": "markdown",
   "metadata": {
    "id": "lpfv2VmXD-Pr"
   },
   "source": [
    "# 5. Fancy Indexing"
   ]
  },
  {
   "cell_type": "markdown",
   "metadata": {
    "id": "fGpVxUL1D-Pr"
   },
   "source": [
    "NumPy arrays can be indexed with slices, but also with boolean or integer arrays **(masks)**. This method is called **fancy indexing**. It creates copies not views."
   ]
  },
  {
   "cell_type": "markdown",
   "metadata": {
    "id": "kZq3iDjkD-Pr"
   },
   "source": [
    "**Using Boolean Mask**"
   ]
  },
  {
   "cell_type": "code",
   "execution_count": 77,
   "metadata": {
    "id": "uTe9VhUOD-Pr",
    "outputId": "8d0e6ab3-26e0-4abd-a401-1ed8316d75f2"
   },
   "outputs": [
    {
     "data": {
      "text/plain": [
       "array([11,  3,  7,  4,  3, 16,  3,  1,  2, 17,  1, 14,  9,  8,  2])"
      ]
     },
     "execution_count": 77,
     "metadata": {},
     "output_type": "execute_result"
    }
   ],
   "source": [
    "a = np.random.randint(0, 20, 15)\n",
    "len(a)\n",
    "a"
   ]
  },
  {
   "cell_type": "code",
   "execution_count": 78,
   "metadata": {
    "collapsed": true,
    "id": "EyX3yF0fD-Ps"
   },
   "outputs": [
    {
     "data": {
      "text/plain": [
       "array([False, False, False,  True, False,  True, False, False,  True,\n",
       "       False, False,  True, False,  True,  True])"
      ]
     },
     "execution_count": 78,
     "metadata": {},
     "output_type": "execute_result"
    }
   ],
   "source": [
    "mask = (a % 2 == 0)\n",
    "mask"
   ]
  },
  {
   "cell_type": "code",
   "execution_count": 80,
   "metadata": {
    "id": "yr6kFJh8D-Ps",
    "outputId": "13be56a5-0dd1-4681-f61b-2a9ee44aa0c4"
   },
   "outputs": [
    {
     "data": {
      "text/plain": [
       "array([11,  3,  7,  3,  3,  1, 17,  1,  9])"
      ]
     },
     "execution_count": 80,
     "metadata": {},
     "output_type": "execute_result"
    }
   ],
   "source": [
    "extract_from_a = a[~mask]\n",
    "\n",
    "extract_from_a"
   ]
  },
  {
   "cell_type": "markdown",
   "metadata": {
    "id": "hJokhBYvD-Ps"
   },
   "source": [
    "**Indexing with a mask can be very useful to assign a new value to a sub-array:**"
   ]
  },
  {
   "cell_type": "code",
   "execution_count": 81,
   "metadata": {
    "id": "MtvQgqMqD-Ps",
    "outputId": "e395045b-9f77-4f85-9cdf-0e0ea41d612c"
   },
   "outputs": [
    {
     "data": {
      "text/plain": [
       "array([11,  3,  7, -1,  3, -1,  3,  1, -1, 17,  1, -1,  9, -1, -1])"
      ]
     },
     "execution_count": 81,
     "metadata": {},
     "output_type": "execute_result"
    }
   ],
   "source": [
    "a[mask] = -1\n",
    "a"
   ]
  },
  {
   "cell_type": "markdown",
   "metadata": {
    "id": "QBkDtIKmD-Pt"
   },
   "source": [
    "**Indexing with an array of integers**"
   ]
  },
  {
   "cell_type": "code",
   "execution_count": 82,
   "metadata": {
    "id": "AY2GeGcyD-Pt",
    "outputId": "dda33302-bd37-47d1-f3e1-0f2c8030e1a5"
   },
   "outputs": [
    {
     "data": {
      "text/plain": [
       "array([ 0, 10, 20, 30, 40, 50, 60, 70, 80, 90])"
      ]
     },
     "execution_count": 82,
     "metadata": {},
     "output_type": "execute_result"
    }
   ],
   "source": [
    "a = np.arange(0, 100, 10)\n",
    "\n",
    "a"
   ]
  },
  {
   "cell_type": "code",
   "execution_count": 83,
   "metadata": {
    "id": "zul25gQGD-Pt",
    "outputId": "46e6bfe6-3ad1-4532-cefb-d067e9fea0d1"
   },
   "outputs": [
    {
     "data": {
      "text/plain": [
       "array([20, 30, 20, 40, 20])"
      ]
     },
     "execution_count": 83,
     "metadata": {},
     "output_type": "execute_result"
    }
   ],
   "source": [
    "#Indexing can be done with an array of integers, where the same index is repeated several time:\n",
    "\n",
    "a[[2, 3, 2, 4, 2]]"
   ]
  },
  {
   "cell_type": "code",
   "execution_count": 84,
   "metadata": {
    "id": "4624WO2uD-Pt",
    "outputId": "8910e03d-fcba-4742-a663-e2041321fbb6"
   },
   "outputs": [
    {
     "data": {
      "text/plain": [
       "array([   0,   10,   20,   30,   40,   50,   60, -200,   80, -200])"
      ]
     },
     "execution_count": 84,
     "metadata": {},
     "output_type": "execute_result"
    }
   ],
   "source": [
    "# New values can be assigned \n",
    "\n",
    "a[[9, 7]] = -200\n",
    "\n",
    "a"
   ]
  },
  {
   "cell_type": "code",
   "execution_count": null,
   "metadata": {},
   "outputs": [],
   "source": []
  }
 ],
 "metadata": {
  "colab": {
   "name": "1_Numpy_array_object.ipynb",
   "provenance": []
  },
  "kernelspec": {
   "display_name": "ai-env",
   "language": "python",
   "name": "python3"
  },
  "language_info": {
   "codemirror_mode": {
    "name": "ipython",
    "version": 3
   },
   "file_extension": ".py",
   "mimetype": "text/x-python",
   "name": "python",
   "nbconvert_exporter": "python",
   "pygments_lexer": "ipython3",
   "version": "3.13.7"
  }
 },
 "nbformat": 4,
 "nbformat_minor": 1
}
